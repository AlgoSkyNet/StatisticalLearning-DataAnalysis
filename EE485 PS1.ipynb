{
 "cells": [
  {
   "cell_type": "markdown",
   "metadata": {
    "toc": true
   },
   "source": [
    "<h1>Table of Contents<span class=\"tocSkip\"></span></h1>\n",
    "<div class=\"toc\"><ul class=\"toc-item\"><li><ul class=\"toc-item\"><li><span><a href=\"#Kazim-Sanlav-,-21301512\" data-toc-modified-id=\"Kazim-Sanlav-,-21301512-0.1\"><span class=\"toc-item-num\">0.1&nbsp;&nbsp;</span>Kazim Sanlav , 21301512</a></span></li></ul></li><li><span><a href=\"#Question-3\" data-toc-modified-id=\"Question-3-1\"><span class=\"toc-item-num\">1&nbsp;&nbsp;</span>Question 3</a></span></li><li><span><a href=\"#Solution\" data-toc-modified-id=\"Solution-2\"><span class=\"toc-item-num\">2&nbsp;&nbsp;</span>Solution</a></span><ul class=\"toc-item\"><li><span><a href=\"#Calculating-LogLikelihood\" data-toc-modified-id=\"Calculating-LogLikelihood-2.1\"><span class=\"toc-item-num\">2.1&nbsp;&nbsp;</span>Calculating LogLikelihood</a></span></li><li><span><a href=\"#MLE-Estimates\" data-toc-modified-id=\"MLE-Estimates-2.2\"><span class=\"toc-item-num\">2.2&nbsp;&nbsp;</span>MLE Estimates</a></span><ul class=\"toc-item\"><li><span><a href=\"#-Calculating-$\\hat\\mu$\" data-toc-modified-id=\"-Calculating-$\\hat\\mu$-2.2.1\"><span class=\"toc-item-num\">2.2.1&nbsp;&nbsp;</span> Calculating $\\hat\\mu$</a></span></li><li><span><a href=\"#-Calculating-$\\hat\\sigma$-*(Not-Used-in-this-hw)*\" data-toc-modified-id=\"-Calculating-$\\hat\\sigma$-*(Not-Used-in-this-hw)*-2.2.2\"><span class=\"toc-item-num\">2.2.2&nbsp;&nbsp;</span> Calculating $\\hat\\sigma$ *(Not Used in this hw)*</a></span></li></ul></li><li><span><a href=\"#-Calculating-Confidence-Interval\" data-toc-modified-id=\"-Calculating-Confidence-Interval-2.3\"><span class=\"toc-item-num\">2.3&nbsp;&nbsp;</span> Calculating Confidence Interval</a></span></li><li><span><a href=\"#-Simulation\" data-toc-modified-id=\"-Simulation-2.4\"><span class=\"toc-item-num\">2.4&nbsp;&nbsp;</span> Simulation</a></span><ul class=\"toc-item\"><li><span><a href=\"#Theory:\" data-toc-modified-id=\"Theory:-2.4.1\"><span class=\"toc-item-num\">2.4.1&nbsp;&nbsp;</span>Theory:</a></span></li><li><span><a href=\"#Observation:\" data-toc-modified-id=\"Observation:-2.4.2\"><span class=\"toc-item-num\">2.4.2&nbsp;&nbsp;</span>Observation:</a></span></li></ul></li><li><span><a href=\"#Part-(b)\" data-toc-modified-id=\"Part-(b)-2.5\"><span class=\"toc-item-num\">2.5&nbsp;&nbsp;</span>Part (b)</a></span></li><li><span><a href=\"#Part-(c)\" data-toc-modified-id=\"Part-(c)-2.6\"><span class=\"toc-item-num\">2.6&nbsp;&nbsp;</span>Part (c)</a></span></li></ul></li></ul></div>"
   ]
  },
  {
   "cell_type": "markdown",
   "metadata": {},
   "source": [
    "<center><h1> EEE 485-585 FALL 2018 PROBLEM SET 1<h1></center>"
   ]
  },
  {
   "cell_type": "markdown",
   "metadata": {},
   "source": [
    " ### Kazim Sanlav , 21301512"
   ]
  },
  {
   "cell_type": "markdown",
   "metadata": {},
   "source": [
    "## Question 3\n",
    "  \n",
    "\n",
    "**(a)** Let X ∼ N (μ, 1). Generate n (take n as 100, 1000, 1000) realizations from this random\n",
    "variable, then using these observations estimate μ (maximum likelihood estimation). Repeat this\n",
    "experiment 100 times and for each of these 100 runs, calculate the confidence intervals (95%) using\n",
    "this estimation. Report the proportion of these confidence intervals that contain the true value of μ,\n",
    "for μ = {0.1, 0.2, 0.3, 0.4, 0.5, 0.6, 0.7, 0.8, 0.9}. Are your results consistent with the theory?  \n",
    "**(b)** What do you observe for different values of n? Does the estimated mean converge towards\n",
    "the true mean as n gets larger? Explain your reasoning.  \n",
    "**(c)** Repeat experiment in part a with X ∼ N (μ, 0.1) and X ∼ N (μ, 10). Compare the results\n",
    "with part a. Comment on the effect of variance. Is the result consistent with the theory?"
   ]
  },
  {
   "cell_type": "markdown",
   "metadata": {},
   "source": [
    "## Solution"
   ]
  },
  {
   "cell_type": "markdown",
   "metadata": {},
   "source": [
    "$$\\text{ where } p(x_i|\\mu, \\sigma) = \\frac{1}{\\sqrt{ 2\\pi\\sigma^2}} \\exp \\left( {- \\frac{({x_i - \\mu})^2}{2\\sigma^2} }\\right)  \\text{ , } \\quad \\mu \\text{, } \\sigma = 1 $$"
   ]
  },
  {
   "cell_type": "markdown",
   "metadata": {},
   "source": [
    "### Calculating LogLikelihood"
   ]
  },
  {
   "cell_type": "markdown",
   "metadata": {},
   "source": [
    "$$\n",
    "l(\\theta) = \\sum_{i=1}^{n} \\log(p(x_i))\n",
    "$$"
   ]
  },
  {
   "cell_type": "markdown",
   "metadata": {},
   "source": [
    "$$= \\sum_{i=1}^{n} \\log \\left( \\frac{1}{\\sqrt{ 2\\pi\\sigma^2}} \\exp \\left( {- \\frac{({x_i - \\mu})^2}{2\\sigma^2} }\\right) \\right)\n",
    "$$"
   ]
  },
  {
   "cell_type": "markdown",
   "metadata": {},
   "source": [
    "$$\n",
    "= \\sum_{i=1}^{n} \\log \\left((2\\pi)^{-1/2} \\sigma^{-1} \\exp \\left( {- \\frac{({x_i - \\mu})^2}{2\\sigma^2} }\\right) \\right)\n",
    "$$"
   ]
  },
  {
   "cell_type": "markdown",
   "metadata": {},
   "source": [
    "$$\n",
    "= -\\frac{n}{2}\\log(2\\pi) - n\\log\\sigma - \\sum_{i=1}^{n} { \\frac{({x_i - \\mu})^2}{2\\sigma^2} }\n",
    "$$"
   ]
  },
  {
   "cell_type": "markdown",
   "metadata": {},
   "source": [
    "### MLE Estimates"
   ]
  },
  {
   "cell_type": "markdown",
   "metadata": {},
   "source": [
    "<h4> Calculating $\\hat\\mu$"
   ]
  },
  {
   "cell_type": "markdown",
   "metadata": {},
   "source": [
    "$$ \n",
    "\\frac{\\partial l(\\theta)}{\\partial \\mu} =  \\sum_{i=1}^n \\frac{x_i -\\mu}{\\sigma^2}=0\n",
    "\\\\\n",
    "$$"
   ]
  },
  {
   "cell_type": "markdown",
   "metadata": {},
   "source": [
    "$$= \\frac{\\sum_{i=1}^n x_i -n\\mu}{n\\sigma^2}=0\n",
    "$$"
   ]
  },
  {
   "cell_type": "markdown",
   "metadata": {},
   "source": [
    "$$\n",
    "\\hat \\mu_{MLE} = \\frac{\\sum_{i=1}^n x_i}{n}  \n",
    "$$"
   ]
  },
  {
   "cell_type": "markdown",
   "metadata": {},
   "source": [
    "<h4> Calculating $\\hat\\sigma$ *(Not Used in this hw)*"
   ]
  },
  {
   "cell_type": "markdown",
   "metadata": {},
   "source": [
    "$$ \n",
    "\\frac{\\partial l(\\theta)}{\\partial \\sigma} =  \\frac{-n}{\\sigma} + \\frac{ \\sum_{i=1}^{n} ({x_i - \\mu})^2}{\\sigma^3}=0\n",
    "$$"
   ]
  },
  {
   "cell_type": "markdown",
   "metadata": {},
   "source": [
    "$$\n",
    "= \\frac{-n \\sigma^2 + \\sum_{i=1}^{n} ({x_i - \\mu})^2}{\\sigma^3}=0\n",
    "$$"
   ]
  },
  {
   "cell_type": "markdown",
   "metadata": {},
   "source": [
    "$$\n",
    "\\hat \\sigma_{MLE} = \\sqrt \\frac{\\sum_{i=1}^n (x_i-\\hat\\mu)^2}{n}\n",
    "$$"
   ]
  },
  {
   "cell_type": "code",
   "execution_count": 4,
   "metadata": {},
   "outputs": [],
   "source": [
    "def mu_mle(X):\n",
    "    '''\n",
    "    X is (n,) numpy array\n",
    "    Calculating mle estimate of mu\n",
    "    '''\n",
    "    return X.mean()"
   ]
  },
  {
   "cell_type": "code",
   "execution_count": 5,
   "metadata": {},
   "outputs": [],
   "source": [
    "def sigma_mle(X):\n",
    "    '''\n",
    "    X is (n,) numpy array\n",
    "    Calculating mle estimate of sigma\n",
    "    '''\n",
    "    return np.sqrt(np.square((X-mu_mle(X))).mean())"
   ]
  },
  {
   "cell_type": "markdown",
   "metadata": {},
   "source": [
    "<h3> Calculating Confidence Interval"
   ]
  },
  {
   "cell_type": "code",
   "execution_count": 6,
   "metadata": {},
   "outputs": [],
   "source": [
    "def mean_confidence_interval(sample_mean, pop_stdev, sample_size, confidence=0.95):\n",
    "    '''\n",
    "    Calculating mean confidence interval given sample statistics\n",
    "    '''\n",
    "    z_critical = scipy.stats.t.ppf((1 - (1 - confidence) / 2.), sample_size-1)\n",
    "    margin_of_error = z_critical * (pop_stdev/math.sqrt(sample_size))\n",
    "    return sample_mean - margin_of_error, sample_mean + margin_of_error"
   ]
  },
  {
   "cell_type": "markdown",
   "metadata": {},
   "source": [
    "<h3> Simulation"
   ]
  },
  {
   "cell_type": "code",
   "execution_count": 7,
   "metadata": {},
   "outputs": [],
   "source": [
    "def simulate(sigma=1):\n",
    "    '''\n",
    "    Realization of normal rv. with parameters (mu,sigma)\n",
    "    n = sample size\n",
    "    Calculate fraction of times the true mean is in mean confidence interval\n",
    "    '''\n",
    "    intervals = []\n",
    "    sample_means = []\n",
    "#     #setting the seed\n",
    "#     np.random.seed(1)\n",
    "\n",
    "    for mu in mus:\n",
    "        for n in [100, 1000, 10000]:\n",
    "            count = 0  # count observations that contains true mean\n",
    "            for step in range(100):  # 100 simulations\n",
    "                # generating realizations from the true paramaters\n",
    "                X = np.random.normal(mu, sigma, n)  # realization of normal rv.\n",
    "                mu_hat = mu_mle(X)  # mle estimates\n",
    "                sample_means.append(mu_hat)\n",
    "                #sigma_hat = sigma_mle(X)\n",
    "                # calculating CI\n",
    "                lower_bound, upper_bound = mean_confidence_interval(\n",
    "                    mu_hat, sigma, n)\n",
    "                intervals.append((lower_bound, upper_bound))\n",
    "                if (mu > lower_bound and mu < upper_bound):\n",
    "                    count += 1\n",
    "            print(\"mu:\", mu, \"  | mu_hat:\", \"%.2f\" % mu_hat, \"  | sigma:\", sigma,\n",
    "                  \"  | sample size:\", n, \"\\t| prop.:\", count/100)\n",
    "        print(\"_\"*80, \"\\n\")"
   ]
  },
  {
   "cell_type": "code",
   "execution_count": 8,
   "metadata": {},
   "outputs": [
    {
     "name": "stdout",
     "output_type": "stream",
     "text": [
      "mu: 0.1   | mu_hat: 0.02   | sigma: 1   | sample size: 100 \t| prop.: 0.92\n",
      "mu: 0.1   | mu_hat: 0.11   | sigma: 1   | sample size: 1000 \t| prop.: 0.98\n",
      "mu: 0.1   | mu_hat: 0.11   | sigma: 1   | sample size: 10000 \t| prop.: 0.92\n",
      "________________________________________________________________________________ \n",
      "\n",
      "mu: 0.2   | mu_hat: 0.10   | sigma: 1   | sample size: 100 \t| prop.: 0.95\n",
      "mu: 0.2   | mu_hat: 0.20   | sigma: 1   | sample size: 1000 \t| prop.: 0.96\n",
      "mu: 0.2   | mu_hat: 0.18   | sigma: 1   | sample size: 10000 \t| prop.: 0.96\n",
      "________________________________________________________________________________ \n",
      "\n",
      "mu: 0.3   | mu_hat: 0.19   | sigma: 1   | sample size: 100 \t| prop.: 0.94\n",
      "mu: 0.3   | mu_hat: 0.28   | sigma: 1   | sample size: 1000 \t| prop.: 0.96\n",
      "mu: 0.3   | mu_hat: 0.29   | sigma: 1   | sample size: 10000 \t| prop.: 0.91\n",
      "________________________________________________________________________________ \n",
      "\n",
      "mu: 0.4   | mu_hat: 0.41   | sigma: 1   | sample size: 100 \t| prop.: 0.96\n",
      "mu: 0.4   | mu_hat: 0.37   | sigma: 1   | sample size: 1000 \t| prop.: 0.96\n",
      "mu: 0.4   | mu_hat: 0.39   | sigma: 1   | sample size: 10000 \t| prop.: 0.94\n",
      "________________________________________________________________________________ \n",
      "\n",
      "mu: 0.5   | mu_hat: 0.42   | sigma: 1   | sample size: 100 \t| prop.: 0.93\n",
      "mu: 0.5   | mu_hat: 0.52   | sigma: 1   | sample size: 1000 \t| prop.: 0.97\n",
      "mu: 0.5   | mu_hat: 0.50   | sigma: 1   | sample size: 10000 \t| prop.: 0.93\n",
      "________________________________________________________________________________ \n",
      "\n",
      "mu: 0.6   | mu_hat: 0.64   | sigma: 1   | sample size: 100 \t| prop.: 0.94\n",
      "mu: 0.6   | mu_hat: 0.59   | sigma: 1   | sample size: 1000 \t| prop.: 0.97\n",
      "mu: 0.6   | mu_hat: 0.61   | sigma: 1   | sample size: 10000 \t| prop.: 0.9\n",
      "________________________________________________________________________________ \n",
      "\n",
      "mu: 0.7   | mu_hat: 0.71   | sigma: 1   | sample size: 100 \t| prop.: 0.95\n",
      "mu: 0.7   | mu_hat: 0.70   | sigma: 1   | sample size: 1000 \t| prop.: 0.94\n",
      "mu: 0.7   | mu_hat: 0.69   | sigma: 1   | sample size: 10000 \t| prop.: 0.96\n",
      "________________________________________________________________________________ \n",
      "\n",
      "mu: 0.8   | mu_hat: 0.70   | sigma: 1   | sample size: 100 \t| prop.: 0.92\n",
      "mu: 0.8   | mu_hat: 0.76   | sigma: 1   | sample size: 1000 \t| prop.: 0.92\n",
      "mu: 0.8   | mu_hat: 0.81   | sigma: 1   | sample size: 10000 \t| prop.: 0.95\n",
      "________________________________________________________________________________ \n",
      "\n",
      "mu: 0.9   | mu_hat: 0.92   | sigma: 1   | sample size: 100 \t| prop.: 0.97\n",
      "mu: 0.9   | mu_hat: 0.96   | sigma: 1   | sample size: 1000 \t| prop.: 0.95\n",
      "mu: 0.9   | mu_hat: 0.90   | sigma: 1   | sample size: 10000 \t| prop.: 0.95\n",
      "________________________________________________________________________________ \n",
      "\n"
     ]
    }
   ],
   "source": [
    "simulate()"
   ]
  },
  {
   "cell_type": "markdown",
   "metadata": {},
   "source": [
    "#### Theory:"
   ]
  },
  {
   "cell_type": "markdown",
   "metadata": {},
   "source": [
    "All 95% confidence intervals have the property that they come from a procedure that has a 95% chance of yielding an interval that contains the true value.   The confidence interval method automatically accounts for sample size in the standard error.   A 95% CI with n=1000 will be narrower than a 95% CI with n=500, but both CIs will have 95% confidence of containing the population percentage."
   ]
  },
  {
   "cell_type": "markdown",
   "metadata": {},
   "source": [
    "#### Observation:"
   ]
  },
  {
   "cell_type": "markdown",
   "metadata": {},
   "source": [
    "All the ratios are around 95% with some variations. However, there is no visible effect of $\\mu$ or sample size $n$. As a conclusion, our observation is consistent with the theory. "
   ]
  },
  {
   "cell_type": "markdown",
   "metadata": {},
   "source": [
    "### Part (b)"
   ]
  },
  {
   "cell_type": "markdown",
   "metadata": {},
   "source": [
    "As n increases, $\\hat\\mu_{MLE}$ converges to $\\mu$. This is due to *Central Limit Theorem*. We know that $\\hat\\mu_{MLE}$ is an unbiased estimator of $\\mu$ and it's variance is inversely proportional to the $\\sqrt n$. As we increses the n, $\\hat\\mu_{MLE}$ converges towards the $\\mu$. Our observation also agrees with this.(Comparing from table)"
   ]
  },
  {
   "cell_type": "markdown",
   "metadata": {},
   "source": [
    "### Part (c)"
   ]
  },
  {
   "cell_type": "code",
   "execution_count": 9,
   "metadata": {},
   "outputs": [
    {
     "name": "stdout",
     "output_type": "stream",
     "text": [
      "mu: 0.1   | mu_hat: 0.11   | sigma: 0.1   | sample size: 100 \t| prop.: 0.97\n",
      "mu: 0.1   | mu_hat: 0.10   | sigma: 0.1   | sample size: 1000 \t| prop.: 0.94\n",
      "mu: 0.1   | mu_hat: 0.10   | sigma: 0.1   | sample size: 10000 \t| prop.: 0.94\n",
      "________________________________________________________________________________ \n",
      "\n",
      "mu: 0.2   | mu_hat: 0.20   | sigma: 0.1   | sample size: 100 \t| prop.: 0.93\n",
      "mu: 0.2   | mu_hat: 0.19   | sigma: 0.1   | sample size: 1000 \t| prop.: 0.97\n",
      "mu: 0.2   | mu_hat: 0.20   | sigma: 0.1   | sample size: 10000 \t| prop.: 0.96\n",
      "________________________________________________________________________________ \n",
      "\n",
      "mu: 0.3   | mu_hat: 0.30   | sigma: 0.1   | sample size: 100 \t| prop.: 0.97\n",
      "mu: 0.3   | mu_hat: 0.30   | sigma: 0.1   | sample size: 1000 \t| prop.: 1.0\n",
      "mu: 0.3   | mu_hat: 0.30   | sigma: 0.1   | sample size: 10000 \t| prop.: 0.91\n",
      "________________________________________________________________________________ \n",
      "\n",
      "mu: 0.4   | mu_hat: 0.40   | sigma: 0.1   | sample size: 100 \t| prop.: 0.95\n",
      "mu: 0.4   | mu_hat: 0.40   | sigma: 0.1   | sample size: 1000 \t| prop.: 0.97\n",
      "mu: 0.4   | mu_hat: 0.40   | sigma: 0.1   | sample size: 10000 \t| prop.: 0.96\n",
      "________________________________________________________________________________ \n",
      "\n",
      "mu: 0.5   | mu_hat: 0.49   | sigma: 0.1   | sample size: 100 \t| prop.: 0.93\n",
      "mu: 0.5   | mu_hat: 0.50   | sigma: 0.1   | sample size: 1000 \t| prop.: 0.96\n",
      "mu: 0.5   | mu_hat: 0.50   | sigma: 0.1   | sample size: 10000 \t| prop.: 0.96\n",
      "________________________________________________________________________________ \n",
      "\n",
      "mu: 0.6   | mu_hat: 0.60   | sigma: 0.1   | sample size: 100 \t| prop.: 0.97\n",
      "mu: 0.6   | mu_hat: 0.60   | sigma: 0.1   | sample size: 1000 \t| prop.: 0.93\n",
      "mu: 0.6   | mu_hat: 0.60   | sigma: 0.1   | sample size: 10000 \t| prop.: 0.97\n",
      "________________________________________________________________________________ \n",
      "\n",
      "mu: 0.7   | mu_hat: 0.69   | sigma: 0.1   | sample size: 100 \t| prop.: 0.97\n",
      "mu: 0.7   | mu_hat: 0.70   | sigma: 0.1   | sample size: 1000 \t| prop.: 0.94\n",
      "mu: 0.7   | mu_hat: 0.70   | sigma: 0.1   | sample size: 10000 \t| prop.: 0.98\n",
      "________________________________________________________________________________ \n",
      "\n",
      "mu: 0.8   | mu_hat: 0.80   | sigma: 0.1   | sample size: 100 \t| prop.: 0.95\n",
      "mu: 0.8   | mu_hat: 0.80   | sigma: 0.1   | sample size: 1000 \t| prop.: 0.93\n",
      "mu: 0.8   | mu_hat: 0.80   | sigma: 0.1   | sample size: 10000 \t| prop.: 0.96\n",
      "________________________________________________________________________________ \n",
      "\n",
      "mu: 0.9   | mu_hat: 0.89   | sigma: 0.1   | sample size: 100 \t| prop.: 0.98\n",
      "mu: 0.9   | mu_hat: 0.91   | sigma: 0.1   | sample size: 1000 \t| prop.: 0.92\n",
      "mu: 0.9   | mu_hat: 0.90   | sigma: 0.1   | sample size: 10000 \t| prop.: 0.94\n",
      "________________________________________________________________________________ \n",
      "\n"
     ]
    }
   ],
   "source": [
    "simulate(sigma=0.1)"
   ]
  },
  {
   "cell_type": "code",
   "execution_count": 10,
   "metadata": {},
   "outputs": [
    {
     "name": "stdout",
     "output_type": "stream",
     "text": [
      "mu: 0.1   | mu_hat: -0.89   | sigma: 10   | sample size: 100 \t| prop.: 0.99\n",
      "mu: 0.1   | mu_hat: 0.54   | sigma: 10   | sample size: 1000 \t| prop.: 0.94\n",
      "mu: 0.1   | mu_hat: 0.06   | sigma: 10   | sample size: 10000 \t| prop.: 0.96\n",
      "________________________________________________________________________________ \n",
      "\n",
      "mu: 0.2   | mu_hat: 2.38   | sigma: 10   | sample size: 100 \t| prop.: 0.97\n",
      "mu: 0.2   | mu_hat: 0.15   | sigma: 10   | sample size: 1000 \t| prop.: 0.94\n",
      "mu: 0.2   | mu_hat: 0.25   | sigma: 10   | sample size: 10000 \t| prop.: 0.99\n",
      "________________________________________________________________________________ \n",
      "\n",
      "mu: 0.3   | mu_hat: 0.07   | sigma: 10   | sample size: 100 \t| prop.: 0.96\n",
      "mu: 0.3   | mu_hat: 0.31   | sigma: 10   | sample size: 1000 \t| prop.: 0.96\n",
      "mu: 0.3   | mu_hat: 0.23   | sigma: 10   | sample size: 10000 \t| prop.: 0.96\n",
      "________________________________________________________________________________ \n",
      "\n",
      "mu: 0.4   | mu_hat: -0.53   | sigma: 10   | sample size: 100 \t| prop.: 0.93\n",
      "mu: 0.4   | mu_hat: 0.57   | sigma: 10   | sample size: 1000 \t| prop.: 0.98\n",
      "mu: 0.4   | mu_hat: 0.39   | sigma: 10   | sample size: 10000 \t| prop.: 0.91\n",
      "________________________________________________________________________________ \n",
      "\n",
      "mu: 0.5   | mu_hat: 1.47   | sigma: 10   | sample size: 100 \t| prop.: 0.94\n",
      "mu: 0.5   | mu_hat: 0.45   | sigma: 10   | sample size: 1000 \t| prop.: 0.91\n",
      "mu: 0.5   | mu_hat: 0.50   | sigma: 10   | sample size: 10000 \t| prop.: 0.95\n",
      "________________________________________________________________________________ \n",
      "\n",
      "mu: 0.6   | mu_hat: 1.25   | sigma: 10   | sample size: 100 \t| prop.: 0.95\n",
      "mu: 0.6   | mu_hat: 0.50   | sigma: 10   | sample size: 1000 \t| prop.: 0.96\n",
      "mu: 0.6   | mu_hat: 0.63   | sigma: 10   | sample size: 10000 \t| prop.: 0.98\n",
      "________________________________________________________________________________ \n",
      "\n",
      "mu: 0.7   | mu_hat: 0.02   | sigma: 10   | sample size: 100 \t| prop.: 0.95\n",
      "mu: 0.7   | mu_hat: 0.68   | sigma: 10   | sample size: 1000 \t| prop.: 0.97\n",
      "mu: 0.7   | mu_hat: 0.89   | sigma: 10   | sample size: 10000 \t| prop.: 0.95\n",
      "________________________________________________________________________________ \n",
      "\n",
      "mu: 0.8   | mu_hat: 0.53   | sigma: 10   | sample size: 100 \t| prop.: 0.94\n",
      "mu: 0.8   | mu_hat: 0.73   | sigma: 10   | sample size: 1000 \t| prop.: 0.96\n",
      "mu: 0.8   | mu_hat: 0.89   | sigma: 10   | sample size: 10000 \t| prop.: 0.92\n",
      "________________________________________________________________________________ \n",
      "\n",
      "mu: 0.9   | mu_hat: 1.16   | sigma: 10   | sample size: 100 \t| prop.: 0.97\n",
      "mu: 0.9   | mu_hat: 1.43   | sigma: 10   | sample size: 1000 \t| prop.: 0.95\n",
      "mu: 0.9   | mu_hat: 0.97   | sigma: 10   | sample size: 10000 \t| prop.: 0.97\n",
      "________________________________________________________________________________ \n",
      "\n"
     ]
    }
   ],
   "source": [
    "simulate(sigma=10)"
   ]
  },
  {
   "cell_type": "markdown",
   "metadata": {},
   "source": [
    "As variance increases, length of the confidence interval will increase and variance of $\\hat\\mu_{MLE}$ will increase. However, proportion of confidence intervals containing $\\mu$ will not change. Our observation is agrees on this also.(Comparing from table)"
   ]
  }
 ],
 "metadata": {
  "kernelspec": {
   "display_name": "Python 3",
   "language": "python",
   "name": "python3"
  },
  "language_info": {
   "codemirror_mode": {
    "name": "ipython",
    "version": 3
   },
   "file_extension": ".py",
   "mimetype": "text/x-python",
   "name": "python",
   "nbconvert_exporter": "python",
   "pygments_lexer": "ipython3",
   "version": "3.7.2"
  },
  "latex_envs": {
   "LaTeX_envs_menu_present": true,
   "autoclose": true,
   "autocomplete": true,
   "bibliofile": "biblio.bib",
   "cite_by": "apalike",
   "current_citInitial": 1,
   "eqLabelWithNumbers": true,
   "eqNumInitial": 1,
   "hotkeys": {
    "equation": "Ctrl-E",
    "itemize": "Ctrl-I"
   },
   "labels_anchors": false,
   "latex_user_defs": false,
   "report_style_numbering": false,
   "user_envs_cfg": false
  },
  "toc": {
   "base_numbering": 1,
   "nav_menu": {
    "height": "12px",
    "width": "536px"
   },
   "number_sections": true,
   "sideBar": true,
   "skip_h1_title": true,
   "title_cell": "Table of Contents",
   "title_sidebar": "Contents",
   "toc_cell": true,
   "toc_position": {
    "height": "calc(100% - 180px)",
    "left": "10px",
    "top": "150px",
    "width": "165px"
   },
   "toc_section_display": true,
   "toc_window_display": true
  },
  "varInspector": {
   "cols": {
    "lenName": 16,
    "lenType": 16,
    "lenVar": 40
   },
   "kernels_config": {
    "python": {
     "delete_cmd_postfix": "",
     "delete_cmd_prefix": "del ",
     "library": "var_list.py",
     "varRefreshCmd": "print(var_dic_list())"
    },
    "r": {
     "delete_cmd_postfix": ") ",
     "delete_cmd_prefix": "rm(",
     "library": "var_list.r",
     "varRefreshCmd": "cat(var_dic_list()) "
    }
   },
   "position": {
    "height": "357.667px",
    "left": "942px",
    "right": "20px",
    "top": "99px",
    "width": "322.667px"
   },
   "types_to_exclude": [
    "module",
    "function",
    "builtin_function_or_method",
    "instance",
    "_Feature"
   ],
   "window_display": false
  }
 },
 "nbformat": 4,
 "nbformat_minor": 2
}
