{
 "cells": [
  {
   "cell_type": "markdown",
   "metadata": {},
   "source": [
    "<center><h1> EEE485 HW3 </h1></center>"
   ]
  },
  {
   "cell_type": "markdown",
   "metadata": {},
   "source": [
    "**Kazim Sanlav**"
   ]
  },
  {
   "cell_type": "code",
   "execution_count": 1,
   "metadata": {
    "ExecuteTime": {
     "end_time": "2018-12-12T22:03:34.241982Z",
     "start_time": "2018-12-12T22:03:33.379496Z"
    }
   },
   "outputs": [],
   "source": [
    "import scipy.io as sio\n",
    "import numpy as np\n",
    "from numpy.linalg import inv\n",
    "from sklearn import preprocessing\n",
    "from numpy import linalg as LA \n",
    "import pandas as pd\n",
    "import matplotlib.pyplot as plt\n",
    "from IPython.display import Latex"
   ]
  },
  {
   "cell_type": "markdown",
   "metadata": {},
   "source": [
    "### Q2"
   ]
  },
  {
   "cell_type": "markdown",
   "metadata": {},
   "source": [
    "### Part (c)"
   ]
  },
  {
   "cell_type": "code",
   "execution_count": 2,
   "metadata": {
    "ExecuteTime": {
     "end_time": "2018-12-12T22:03:35.713878Z",
     "start_time": "2018-12-12T22:03:35.653644Z"
    }
   },
   "outputs": [],
   "source": [
    "q2 = pd.read_csv('student.csv', header=None)"
   ]
  },
  {
   "cell_type": "code",
   "execution_count": 3,
   "metadata": {
    "ExecuteTime": {
     "end_time": "2018-12-12T22:03:36.553016Z",
     "start_time": "2018-12-12T22:03:36.530566Z"
    },
    "scrolled": true
   },
   "outputs": [
    {
     "data": {
      "text/html": [
       "<div>\n",
       "<style scoped>\n",
       "    .dataframe tbody tr th:only-of-type {\n",
       "        vertical-align: middle;\n",
       "    }\n",
       "\n",
       "    .dataframe tbody tr th {\n",
       "        vertical-align: top;\n",
       "    }\n",
       "\n",
       "    .dataframe thead th {\n",
       "        text-align: right;\n",
       "    }\n",
       "</style>\n",
       "<table border=\"1\" class=\"dataframe\">\n",
       "  <thead>\n",
       "    <tr style=\"text-align: right;\">\n",
       "      <th></th>\n",
       "      <th>0</th>\n",
       "      <th>1</th>\n",
       "      <th>2</th>\n",
       "      <th>3</th>\n",
       "    </tr>\n",
       "  </thead>\n",
       "  <tbody>\n",
       "    <tr>\n",
       "      <th>0</th>\n",
       "      <td>1</td>\n",
       "      <td>1426.0</td>\n",
       "      <td>3.61</td>\n",
       "      <td>3</td>\n",
       "    </tr>\n",
       "    <tr>\n",
       "      <th>1</th>\n",
       "      <td>1</td>\n",
       "      <td>1277.5</td>\n",
       "      <td>3.67</td>\n",
       "      <td>3</td>\n",
       "    </tr>\n",
       "    <tr>\n",
       "      <th>2</th>\n",
       "      <td>1</td>\n",
       "      <td>2104.7</td>\n",
       "      <td>4.00</td>\n",
       "      <td>1</td>\n",
       "    </tr>\n",
       "    <tr>\n",
       "      <th>3</th>\n",
       "      <td>1</td>\n",
       "      <td>1534.0</td>\n",
       "      <td>3.19</td>\n",
       "      <td>4</td>\n",
       "    </tr>\n",
       "    <tr>\n",
       "      <th>4</th>\n",
       "      <td>1</td>\n",
       "      <td>2634.8</td>\n",
       "      <td>2.93</td>\n",
       "      <td>4</td>\n",
       "    </tr>\n",
       "  </tbody>\n",
       "</table>\n",
       "</div>"
      ],
      "text/plain": [
       "   0       1     2  3\n",
       "0  1  1426.0  3.61  3\n",
       "1  1  1277.5  3.67  3\n",
       "2  1  2104.7  4.00  1\n",
       "3  1  1534.0  3.19  4\n",
       "4  1  2634.8  2.93  4"
      ]
     },
     "execution_count": 3,
     "metadata": {},
     "output_type": "execute_result"
    }
   ],
   "source": [
    "q2.head()"
   ]
  },
  {
   "cell_type": "code",
   "execution_count": 4,
   "metadata": {
    "ExecuteTime": {
     "end_time": "2018-12-12T22:03:38.860388Z",
     "start_time": "2018-12-12T22:03:38.844133Z"
    }
   },
   "outputs": [],
   "source": [
    "def logit(x):\n",
    "    '''\n",
    "    x: vector of input\n",
    "    '''\n",
    "    return x/(1+x) "
   ]
  },
  {
   "cell_type": "code",
   "execution_count": 5,
   "metadata": {
    "ExecuteTime": {
     "end_time": "2018-12-12T22:03:39.621138Z",
     "start_time": "2018-12-12T22:03:39.606482Z"
    }
   },
   "outputs": [],
   "source": [
    "def gradient_decent(X,y):\n",
    "    '''\n",
    "    Gradient decent algorithm\n",
    "    X:  Design matrix [1 x_1;...;1 x_n]\n",
    "    y:  True response [y_1,...,y_n]\n",
    "    pi: [pi_1...pi_n] where pi_i = Pr(Y_i=1|X_i=x_i)\n",
    "    '''\n",
    "\n",
    "    treshhold = 0.01\n",
    "    lrate = 10^-1 #learning rate\n",
    "    converged = False\n",
    "    beta = np.zeros((2,1)) # inital weights\n",
    "    i = 0 # step number\n",
    "    \n",
    "    \n",
    "    while not converged and i < 100:\n",
    "        i+=1 \n",
    "        #beta_n+1 = beta_n - lamda*gradient_NLL_beta_n\n",
    "        #gradient = X.T(pi-y)\n",
    "        pi = logit(np.exp(X@beta)) #pi\n",
    "        gradient_NLL = (X.T@(pi-y)) #gradient\n",
    "        beta -= lrate*gradient_NLL #parameter update\n",
    "        \n",
    "        if (LA.norm(gradient_NLL)<treshhold):\n",
    "            converged = True\n",
    "        if (i%10 == 0):\n",
    "            print(gradient_NLL)\n",
    "#             print('step:',i,' beta:',beta)\n",
    "    return beta #maximum likelihood estimate of beta\n",
    "        "
   ]
  },
  {
   "cell_type": "code",
   "execution_count": 6,
   "metadata": {
    "ExecuteTime": {
     "end_time": "2018-12-12T22:03:40.470602Z",
     "start_time": "2018-12-12T22:03:40.445539Z"
    }
   },
   "outputs": [],
   "source": [
    "# add ones to first column of X\n",
    "q2_X = np.asarray(q2.loc[:,1])\n",
    "q2_X/=1000\n",
    "a = np.ones((400,2))\n",
    "a[:,1] = q2_X\n",
    "q2_X = a\n",
    "\n",
    "q2_Y = np.asarray(q2.loc[:,0])\n",
    "q2_Y = np.reshape(q2_Y,(400,1)) #response variable"
   ]
  },
  {
   "cell_type": "code",
   "execution_count": 7,
   "metadata": {
    "ExecuteTime": {
     "end_time": "2018-12-12T22:03:41.393855Z",
     "start_time": "2018-12-12T22:03:41.284371Z"
    }
   },
   "outputs": [
    {
     "name": "stdout",
     "output_type": "stream",
     "text": [
      "[[-200.     ]\n",
      " [-334.67436]]\n",
      "[[-200.     ]\n",
      " [-334.67436]]\n",
      "[[-200.     ]\n",
      " [-334.67436]]\n",
      "[[-200.     ]\n",
      " [-334.67436]]\n",
      "[[-200.     ]\n",
      " [-334.67436]]\n",
      "[[-200.     ]\n",
      " [-334.67436]]\n",
      "[[-200.     ]\n",
      " [-334.67436]]\n",
      "[[-200.     ]\n",
      " [-334.67436]]\n",
      "[[-200.     ]\n",
      " [-334.67436]]\n",
      "[[-200.     ]\n",
      " [-334.67436]]\n"
     ]
    },
    {
     "data": {
      "text/plain": [
       "array([[-217712.00000188],\n",
       "       [-365521.61664147]])"
      ]
     },
     "execution_count": 7,
     "metadata": {},
     "output_type": "execute_result"
    }
   ],
   "source": [
    "gradient_decent(q2_X,q2_Y)"
   ]
  },
  {
   "cell_type": "markdown",
   "metadata": {},
   "source": [
    "### Q3"
   ]
  },
  {
   "cell_type": "code",
   "execution_count": 11,
   "metadata": {},
   "outputs": [],
   "source": [
    "df_train = sio.loadmat('PS2Q3train.mat')\n",
    "df_train = np.concatenate((df_train['x_tr'],df_train['y_tr']), axis = 1)\n",
    "df_train = pd.DataFrame(df_train, columns=['X','Y'])\n",
    "df_test = sio.loadmat('PS2Q3test.mat')\n",
    "df_test = np.concatenate((df_test['x_te'],df_test['y_te']), axis = 1)\n",
    "df_test = pd.DataFrame(df_test, columns=['X','Y'])"
   ]
  },
  {
   "cell_type": "code",
   "execution_count": 9,
   "metadata": {},
   "outputs": [
    {
     "data": {
      "text/html": [
       "<div>\n",
       "<style scoped>\n",
       "    .dataframe tbody tr th:only-of-type {\n",
       "        vertical-align: middle;\n",
       "    }\n",
       "\n",
       "    .dataframe tbody tr th {\n",
       "        vertical-align: top;\n",
       "    }\n",
       "\n",
       "    .dataframe thead th {\n",
       "        text-align: right;\n",
       "    }\n",
       "</style>\n",
       "<table border=\"1\" class=\"dataframe\">\n",
       "  <thead>\n",
       "    <tr style=\"text-align: right;\">\n",
       "      <th></th>\n",
       "      <th>X</th>\n",
       "      <th>Y</th>\n",
       "    </tr>\n",
       "  </thead>\n",
       "  <tbody>\n",
       "    <tr>\n",
       "      <th>0</th>\n",
       "      <td>-0.627295</td>\n",
       "      <td>0.304737</td>\n",
       "    </tr>\n",
       "    <tr>\n",
       "      <th>1</th>\n",
       "      <td>-1.859568</td>\n",
       "      <td>-0.951721</td>\n",
       "    </tr>\n",
       "    <tr>\n",
       "      <th>2</th>\n",
       "      <td>-1.761680</td>\n",
       "      <td>-1.059035</td>\n",
       "    </tr>\n",
       "    <tr>\n",
       "      <th>3</th>\n",
       "      <td>0.210733</td>\n",
       "      <td>0.049572</td>\n",
       "    </tr>\n",
       "    <tr>\n",
       "      <th>4</th>\n",
       "      <td>-1.679922</td>\n",
       "      <td>-0.688042</td>\n",
       "    </tr>\n",
       "  </tbody>\n",
       "</table>\n",
       "</div>"
      ],
      "text/plain": [
       "          X         Y\n",
       "0 -0.627295  0.304737\n",
       "1 -1.859568 -0.951721\n",
       "2 -1.761680 -1.059035\n",
       "3  0.210733  0.049572\n",
       "4 -1.679922 -0.688042"
      ]
     },
     "execution_count": 9,
     "metadata": {},
     "output_type": "execute_result"
    }
   ],
   "source": [
    "df_train.head()"
   ]
  },
  {
   "cell_type": "code",
   "execution_count": 10,
   "metadata": {},
   "outputs": [
    {
     "data": {
      "text/plain": [
       "Text(0.5,1,'Train Data')"
      ]
     },
     "execution_count": 10,
     "metadata": {},
     "output_type": "execute_result"
    },
    {
     "data": {
      "image/png": "[encoded data removed]",
      "text/plain": [
       "<Figure size 432x288 with 1 Axes>"
      ]
     },
     "metadata": {
      "needs_background": "light"
     },
     "output_type": "display_data"
    }
   ],
   "source": [
    "plt.plot(df_train.X,df_train.Y,'o',alpha = 0.5)\n",
    "plt.xlabel('X')\n",
    "plt.ylabel('y')\n",
    "plt.title('Train Data')"
   ]
  },
  {
   "cell_type": "code",
   "execution_count": 164,
   "metadata": {
    "scrolled": true
   },
   "outputs": [
    {
     "data": {
      "text/html": [
       "<div>\n",
       "<style scoped>\n",
       "    .dataframe tbody tr th:only-of-type {\n",
       "        vertical-align: middle;\n",
       "    }\n",
       "\n",
       "    .dataframe tbody tr th {\n",
       "        vertical-align: top;\n",
       "    }\n",
       "\n",
       "    .dataframe thead th {\n",
       "        text-align: right;\n",
       "    }\n",
       "</style>\n",
       "<table border=\"1\" class=\"dataframe\">\n",
       "  <thead>\n",
       "    <tr style=\"text-align: right;\">\n",
       "      <th></th>\n",
       "      <th>X</th>\n",
       "      <th>Y</th>\n",
       "    </tr>\n",
       "  </thead>\n",
       "  <tbody>\n",
       "    <tr>\n",
       "      <th>0</th>\n",
       "      <td>-1.448637</td>\n",
       "      <td>-0.238349</td>\n",
       "    </tr>\n",
       "    <tr>\n",
       "      <th>1</th>\n",
       "      <td>0.956413</td>\n",
       "      <td>-0.027134</td>\n",
       "    </tr>\n",
       "    <tr>\n",
       "      <th>2</th>\n",
       "      <td>-0.282732</td>\n",
       "      <td>-0.350744</td>\n",
       "    </tr>\n",
       "    <tr>\n",
       "      <th>3</th>\n",
       "      <td>-1.700539</td>\n",
       "      <td>-0.731897</td>\n",
       "    </tr>\n",
       "    <tr>\n",
       "      <th>4</th>\n",
       "      <td>-1.938974</td>\n",
       "      <td>-1.320550</td>\n",
       "    </tr>\n",
       "  </tbody>\n",
       "</table>\n",
       "</div>"
      ],
      "text/plain": [
       "          X         Y\n",
       "0 -1.448637 -0.238349\n",
       "1  0.956413 -0.027134\n",
       "2 -0.282732 -0.350744\n",
       "3 -1.700539 -0.731897\n",
       "4 -1.938974 -1.320550"
      ]
     },
     "execution_count": 164,
     "metadata": {},
     "output_type": "execute_result"
    }
   ],
   "source": [
    "df_test.head()"
   ]
  },
  {
   "cell_type": "code",
   "execution_count": 165,
   "metadata": {
    "scrolled": true
   },
   "outputs": [
    {
     "data": {
      "text/plain": [
       "Text(0.5,1,'Test Data')"
      ]
     },
     "execution_count": 165,
     "metadata": {},
     "output_type": "execute_result"
    },
    {
     "data": {
      "image/png": "[encoded data removed]",
      "text/plain": [
       "<Figure size 432x288 with 1 Axes>"
      ]
     },
     "metadata": {
      "needs_background": "light"
     },
     "output_type": "display_data"
    }
   ],
   "source": [
    "plt.plot(df_test.X,df_test.Y,'o',alpha = 0.5)\n",
    "plt.xlabel('X')\n",
    "plt.ylabel('y')\n",
    "plt.title('Test Data')"
   ]
  },
  {
   "cell_type": "markdown",
   "metadata": {},
   "source": [
    "### Part (a)"
   ]
  },
  {
   "cell_type": "markdown",
   "metadata": {},
   "source": [
    "We will use Polynomial Regression with $p \\in \\{1,...,10\\}$ such as:\n",
    "\n",
    "$$\n",
    "Y = \\beta_0 + \\beta_1X + \\beta_2X^2 + ... + \\beta_pX^p + \\epsilon \n",
    "$$\n",
    "\n",
    "$$\n",
    "\\mathcal{D} := \\{(x_i,y_i)\\}_{i=1}^n \\in \\mathbb{R}\n",
    "$$\n",
    "\n"
   ]
  },
  {
   "cell_type": "markdown",
   "metadata": {},
   "source": [
    "\\begin{equation}\n",
    "\\begin{bmatrix}\n",
    "    y_1 \\\\\n",
    "    y_1 \\\\\n",
    "    \\vdots \\\\\n",
    "    y_n \\\\\n",
    "\\end{bmatrix} = \\begin{bmatrix}\n",
    "    x_{1}       & x_1^2 & \\dots & x_1^p \\\\\n",
    "    x_{2}       & x_2^2 & \\dots & x_2^p \\\\\n",
    "    \\vdots      &\\vdots & \\ddots & \\vdots \\\\\n",
    "    x_{n}       & x_n^2 & \\dots & x_n^p\n",
    "\\end{bmatrix} \n",
    "\\begin{bmatrix}\n",
    "    \\beta_0 \\\\\n",
    "    \\beta_1 \\\\\n",
    "    \\vdots \\\\\n",
    "    \\beta_p \\\\\n",
    "\\end{bmatrix} + \n",
    "\\begin{bmatrix}\n",
    "    \\epsilon_1 \\\\\n",
    "    \\epsilon_2 \\\\\n",
    "    \\vdots \\\\\n",
    "    \\epsilon_n \\\\ \n",
    "\\end{bmatrix}\n",
    "\\end{equation}"
   ]
  },
  {
   "cell_type": "markdown",
   "metadata": {},
   "source": [
    "Least Square solution of this equation is:\n",
    "$$\n",
    "\\hat{\\beta} = (X^TX)^{-1}X^Ty\n",
    "$$"
   ]
  },
  {
   "cell_type": "markdown",
   "metadata": {},
   "source": [
    "We will write a function for solving least-square estimate."
   ]
  },
  {
   "cell_type": "code",
   "execution_count": 166,
   "metadata": {},
   "outputs": [],
   "source": [
    "def least_square_estimate(X,y):\n",
    "    '''\n",
    "    X:Design matrix\n",
    "    y:True response\n",
    "    '''\n",
    "    X = X if isinstance(X,np.ndarray) else np.asarray(X)\n",
    "    y = y if isinstance(y,np.ndarray) else np.asarray(y)\n",
    "    b_hat = inv(X.T@X)@X.T@y\n",
    "    return b_hat"
   ]
  },
  {
   "cell_type": "markdown",
   "metadata": {},
   "source": [
    "Vandermond matrix:"
   ]
  },
  {
   "cell_type": "code",
   "execution_count": 167,
   "metadata": {},
   "outputs": [],
   "source": [
    "def X_design(X, p=1):\n",
    "    return np.vander(X, p+1, increasing=True)"
   ]
  },
  {
   "cell_type": "code",
   "execution_count": 168,
   "metadata": {},
   "outputs": [],
   "source": [
    "def predict(X,Beta,y_hat = None):\n",
    "    if y_hat: # mean of Dtrain\n",
    "        return X@Beta + y_hat\n",
    "    return X@Beta"
   ]
  },
  {
   "cell_type": "code",
   "execution_count": 169,
   "metadata": {},
   "outputs": [],
   "source": [
    "def MSE(y_hat,y):\n",
    "    return (y_hat - y).T@(y_hat - y)/(y.shape[0])"
   ]
  },
  {
   "cell_type": "markdown",
   "metadata": {},
   "source": [
    "We will calculate the $\\hat{y}$ for $p \\in{1,...,10}$"
   ]
  },
  {
   "cell_type": "code",
   "execution_count": 170,
   "metadata": {},
   "outputs": [],
   "source": [
    "def plot_MSE(X_tr,y_tr,X_te,y_te,p):\n",
    "    training_errors = []\n",
    "    test_errors = []\n",
    "    \n",
    "    for i in range(p):\n",
    "        X_des = X_design(X_tr,i) #vandermond\n",
    "        beta_hat = least_square_estimate(X_des,y_tr) #beta hat \n",
    "        training_errors.append(MSE(predict(X_des,beta_hat),y_tr)) #train error\n",
    "        test_errors.append(MSE(predict(X_design(X_te,i),beta_hat),y_te))  #test error\n",
    "        \n",
    "    plt.plot(training_errors, marker='.', color='blue', linewidth=2, label='train error')\n",
    "    plt.plot(test_errors, marker='.', color='red', linewidth=2, label='test error')\n",
    "    # Add legend\n",
    "    plt.legend()\n",
    "\n",
    "    # Add titles\n",
    "    plt.title(\"Train&Test Errors\")\n",
    "    plt.ylabel(\"MSE\")\n",
    "    plt.xlabel(r'$p$')\n",
    "\n",
    "\n"
   ]
  },
  {
   "cell_type": "code",
   "execution_count": 171,
   "metadata": {
    "scrolled": false
   },
   "outputs": [
    {
     "data": {
      "image/png": "[encoded data removed]",
      "text/plain": [
       "<Figure size 432x288 with 1 Axes>"
      ]
     },
     "metadata": {
      "needs_background": "light"
     },
     "output_type": "display_data"
    }
   ],
   "source": [
    "plot_MSE(df_train.X,df_train.Y,df_test.X,df_test.Y,p=11)"
   ]
  },
  {
   "cell_type": "markdown",
   "metadata": {},
   "source": [
    "$p=5$ is the optimal value because it has the lowest test error, performance does not  \n",
    "improve beyond it."
   ]
  },
  {
   "cell_type": "markdown",
   "metadata": {},
   "source": [
    "### Part (b)"
   ]
  },
  {
   "cell_type": "code",
   "execution_count": 172,
   "metadata": {},
   "outputs": [],
   "source": [
    "def standardize(X,y,mean=None,std=None):\n",
    "    '''\n",
    "    Standardize X,\n",
    "    Centralize y\n",
    "    '''\n",
    "    if(mean and std): # standardize test data with mean and std of Dtrain\n",
    "        X_std = (X-mean)/std\n",
    "        mean_y = np.mean(y)\n",
    "    else:   \n",
    "        mean_x = np.mean(X, axis=0)\n",
    "        std_x = np.std(X, axis=0)\n",
    "        mean_y = np.mean(y)\n",
    "\n",
    "        X_std = (X-mean_x)/std_x\n",
    "    \n",
    "    return (X_std, mean_y)"
   ]
  },
  {
   "cell_type": "code",
   "execution_count": 173,
   "metadata": {},
   "outputs": [],
   "source": [
    "def least_square_est_ridge(X,y,lmd):\n",
    "    '''\n",
    "    X:Design matrix\n",
    "    y:True response\n",
    "    lmd:Lambda,regularization parameter\n",
    "    '''\n",
    "        \n",
    "    X = X if isinstance(X,np.ndarray) else np.asarray(X)\n",
    "    y = y if isinstance(y,np.ndarray) else np.asarray(y)\n",
    "    \n",
    "    #dont standardize the first column of vandermond(all 1s)\n",
    "    b = np.ones((X.shape[0],X.shape[1]))\n",
    "    b[:,1:] = standardize(X[:,1:],y)[0]\n",
    "    X = b\n",
    "       \n",
    "    b_hat = inv(X.T@X+np.identity(X.shape[1])*lmd)@X.T@y\n",
    "    return b_hat"
   ]
  },
  {
   "cell_type": "code",
   "execution_count": 174,
   "metadata": {},
   "outputs": [],
   "source": [
    "def standardize_test(X,y,mean,std):\n",
    "        \n",
    "    X = X if isinstance(X,np.ndarray) else np.asarray(X)\n",
    "    y = y if isinstance(y,np.ndarray) else np.asarray(y)\n",
    "    \n",
    "    #dont standardize the first column of vandermond(all 1s)\n",
    "    b = np.ones((X.shape[0],X.shape[1]))\n",
    "    b[:,1:] = standardize(X[:,1:],y,mean,std)[0]\n",
    "    X = b\n",
    "    y = standardize(X[:,1:],y,mean,std)[1]\n",
    "    \n",
    "    return (X,y)"
   ]
  },
  {
   "cell_type": "code",
   "execution_count": 179,
   "metadata": {},
   "outputs": [],
   "source": [
    "def plot_MSE_ridge(X_tr,y_tr,X_te,y_te,p):\n",
    "    \n",
    "    y_hat = y = standardize(X_tr,y_tr)[1] # mean of response on Dtrain\n",
    "    lmd = range(101) #lambda\n",
    "    training_errors = []\n",
    "    test_errors = []\n",
    "    \n",
    "    for i in lmd:\n",
    "        X_des = X_design(X_tr,p) #vandermond train data\n",
    "        X_des_te = X_design(X_te,p) #vandermond test data\n",
    "        beta_hat = least_square_est_ridge(X_des,y_tr,i) #beta hat \n",
    "        \n",
    "        training_errors.append(MSE(predict(X_des,beta_hat,y_hat),y_tr)) #train error\n",
    "        \n",
    "    \n",
    "#         X_des_te = standardize_test(X_des_te, y_tr, mean_tr, std_tr)\n",
    "        \n",
    "        test_errors.append(MSE(predict(X_des_te,beta_hat,y_hat),y_te))  #test error\n",
    "        \n",
    "    plt.plot(training_errors, marker='.', color='blue', linewidth=2, label='train error')\n",
    "    plt.plot(test_errors, marker='.', color='red', linewidth=2, label='test error')\n",
    "    # Add legend\n",
    "    plt.legend()\n",
    "    \n",
    "    # Add titles\n",
    "    plt.title(\"Train&Test Errors\")\n",
    "    plt.ylabel(\"MSE\")\n",
    "    plt.xlabel(r'$\\lambda$')\n",
    "\n",
    "\n"
   ]
  },
  {
   "cell_type": "code",
   "execution_count": 180,
   "metadata": {},
   "outputs": [
    {
     "data": {
      "image/png": "[encoded data removed]",
      "text/plain": [
       "<Figure size 432x288 with 1 Axes>"
      ]
     },
     "metadata": {
      "needs_background": "light"
     },
     "output_type": "display_data"
    }
   ],
   "source": [
    "plot_MSE_ridge(df_train.X,df_train.Y,df_test.X,df_test.Y,p=5)"
   ]
  },
  {
   "cell_type": "markdown",
   "metadata": {},
   "source": [
    "Lambda 100 seems to have lower error"
   ]
  },
  {
   "cell_type": "markdown",
   "metadata": {},
   "source": [
    "### Q4"
   ]
  },
  {
   "cell_type": "markdown",
   "metadata": {},
   "source": [
    "### part(b)"
   ]
  },
  {
   "cell_type": "code",
   "execution_count": 177,
   "metadata": {},
   "outputs": [],
   "source": [
    "q4_train = sio.loadmat('PS2Q4.mat')\n",
    "q4_X = q4_train['x_tr']\n",
    "q4_Y = q4_train['y_tr']\n"
   ]
  },
  {
   "cell_type": "code",
   "execution_count": null,
   "metadata": {},
   "outputs": [],
   "source": [
    "X=q4_X.reshape(1000,1)\n",
    "Y=q4_Y.reshape(1000,1)\n",
    "# Initialize beta\n",
    "beta = np.zeros((2,1))\n",
    "# Initialize mu\n",
    "mu = np.zeros((1000,1))\n",
    "\n",
    "# initialize gradient\n",
    "gradient = X.T@(mu-Y)\n",
    "\n",
    "# initialize epsilon\n",
    "epsilon = 0.0001\n",
    "# initialize eta\n",
    "learningrate = 10^(-5)\n",
    "\n",
    "while((gradient.T@gradient) > epsilon ):\n",
    "  # update beta\n",
    "  beta = beta - learningrate*(X.T@(mu-Y))\n",
    "  # update mu\n",
    "  for k in range(mu.shape[0]):\n",
    "    mu[k] = np.exp(beta[0] + beta[1] * (X[k]))\n",
    "  \n",
    "  # Calculte gradient\n",
    "  gradient = X.T@(mu-Y)\n",
    "  \n",
    "#   # Update \n",
    "#   maxIterations = maxIterations-1\n",
    "  \n",
    "  # Print \n",
    "  print(gradient.T@gradient)"
   ]
  },
  {
   "cell_type": "code",
   "execution_count": null,
   "metadata": {},
   "outputs": [],
   "source": []
  }
 ],
 "metadata": {
  "kernelspec": {
   "display_name": "Python 3",
   "language": "python",
   "name": "python3"
  },
  "language_info": {
   "codemirror_mode": {
    "name": "ipython",
    "version": 3
   },
   "file_extension": ".py",
   "mimetype": "text/x-python",
   "name": "python",
   "nbconvert_exporter": "python",
   "pygments_lexer": "ipython3",
   "version": "3.7.2"
  },
  "latex_envs": {
   "LaTeX_envs_menu_present": true,
   "autoclose": true,
   "autocomplete": true,
   "bibliofile": "biblio.bib",
   "cite_by": "apalike",
   "current_citInitial": 1,
   "eqLabelWithNumbers": true,
   "eqNumInitial": 1,
   "hotkeys": {
    "equation": "Ctrl-E",
    "itemize": "Ctrl-I"
   },
   "labels_anchors": false,
   "latex_user_defs": false,
   "report_style_numbering": false,
   "user_envs_cfg": false
  },
  "toc": {
   "base_numbering": 1,
   "nav_menu": {},
   "number_sections": true,
   "sideBar": true,
   "skip_h1_title": false,
   "title_cell": "Table of Contents",
   "title_sidebar": "Contents",
   "toc_cell": false,
   "toc_position": {},
   "toc_section_display": true,
   "toc_window_display": false
  },
  "varInspector": {
   "cols": {
    "lenName": 16,
    "lenType": 16,
    "lenVar": 40
   },
   "kernels_config": {
    "python": {
     "delete_cmd_postfix": "",
     "delete_cmd_prefix": "del ",
     "library": "var_list.py",
     "varRefreshCmd": "print(var_dic_list())"
    },
    "r": {
     "delete_cmd_postfix": ") ",
     "delete_cmd_prefix": "rm(",
     "library": "var_list.r",
     "varRefreshCmd": "cat(var_dic_list()) "
    }
   },
   "types_to_exclude": [
    "module",
    "function",
    "builtin_function_or_method",
    "instance",
    "_Feature"
   ],
   "window_display": false
  }
 },
 "nbformat": 4,
 "nbformat_minor": 2
}
